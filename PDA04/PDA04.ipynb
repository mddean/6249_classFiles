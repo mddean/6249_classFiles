{
 "cells": [
  {
   "cell_type": "markdown",
   "metadata": {},
   "source": [
    "# Module 4: Introduction to `pandas`\n",
    "\n",
    "In this module, we'll be introduced to one of the most powerful and useful packages/modules available - `pandas`. It is the de facto standard for data manipulation in Python\n",
    "\n",
    "## Learning Objectives\n",
    "\n",
    "#### By the end of this module, you should be able to:\n",
    "\n",
    "- write simple Python functions\n",
    "- create `Series` objects\n",
    "- create `DataFrame` objects\n",
    "- use various operations on `Series` and `DataFrame` objects to accomplish handy tasks\n",
    "- create basic plots using `pandas`\n",
    "\n",
    "\n",
    "### Activities\n",
    "\n",
    "| Activities                | \n",
    "| :--------------------------------------- | \n",
    "| **[Introduction to Python Functions][nb3]** |\n",
    "| **[Introduction to Pandas][nb1]** |\n",
    "| **[More Pandas][nb2]** |\n",
    "\n",
    "\n",
    "\n",
    "[nb1]: introToPandas.ipynb\n",
    "[nb2]: morePandas.ipynb\n",
    "[nb3]: intro2functions.ipynb"
   ]
  },
  {
   "cell_type": "markdown",
   "metadata": {},
   "source": [
    "## Ancillary Information\n",
    "\n",
    "\n",
    "1. The wikibook [Python Programming/Functions][1] has information relevant to the advanced features of creating user-defined functions, much of what we did **not** cover, but is nonetheless very useful information. \n",
    "2. The official API reference for [`pandas.Series`][2].\n",
    "3. The official API reference for [`pandas.DataFrame`][3].\n",
    "4. The [user guide][4] for `pandas`.\n",
    "\n",
    "-----\n",
    "\n",
    "[1]: https://en.wikibooks.org/wiki/Python_Programming/Functions\n",
    "[2]: https://pandas.pydata.org/pandas-docs/stable/reference/api/pandas.Series.html\n",
    "[3]: https://pandas.pydata.org/pandas-docs/stable/reference/api/pandas.DataFrame.html\n",
    "[4]: https://pandas.pydata.org/pandas-docs/stable/user_guide/index.html"
   ]
  },
  {
   "cell_type": "markdown",
   "metadata": {
    "deletable": false,
    "editable": false
   },
   "source": [
    "-----\n",
    "\n",
    "**&copy; 2021 - Present: Matthew D. Dean, Ph.D.   \n",
    "Clinical Associate Professor of Business Analytics at William \\& Mary.**"
   ]
  }
 ],
 "metadata": {
  "kernelspec": {
   "display_name": "Python 3 (ipykernel)",
   "language": "python",
   "name": "python3"
  },
  "language_info": {
   "codemirror_mode": {
    "name": "ipython",
    "version": 3
   },
   "file_extension": ".py",
   "mimetype": "text/x-python",
   "name": "python",
   "nbconvert_exporter": "python",
   "pygments_lexer": "ipython3",
   "version": "3.8.8"
  }
 },
 "nbformat": 4,
 "nbformat_minor": 2
}
